{
 "cells": [
  {
   "cell_type": "code",
   "execution_count": 2,
   "metadata": {},
   "outputs": [],
   "source": [
    "# https: //json-schema.org/understanding-json-schema/index.html\n",
    "# https: //python-jsonschema.readthedocs.io/en/stable/\n",
    "from jsonschema import validate"
   ]
  },
  {
   "cell_type": "code",
   "execution_count": 3,
   "metadata": {},
   "outputs": [],
   "source": [
    "schema = {\n",
    "    \"properties\": {\n",
    "        \"name\": {\n",
    "            \"type\": \"string\",\n",
    "            \"minLength\": 2,\n",
    "            \"maxLength\": 400\n",
    "        },\n",
    "        \"gender\": {\n",
    "            \"type\": \"string\",\n",
    "            \"enum\": [\n",
    "                \"Male\",\n",
    "                \"Female\",\n",
    "                \"Other\"\n",
    "            ]\n",
    "        },\n",
    "        \"age\": {\n",
    "            \"type\": \"number\",\n",
    "            \"minimum\": 18,\n",
    "            \"maximum\": 126\n",
    "        },\n",
    "        \"dues\": {\n",
    "            \"type\": \"number\"\n",
    "        },\n",
    "        \"address\": {\n",
    "            \"type\": \"string\",\n",
    "            \"minLength\": 0,\n",
    "            \"maxLength\": 1000\n",
    "        },\n",
    "        \"phones\": {\n",
    "            \"properties\": {\n",
    "                \"home\": {\n",
    "                    \"type\": \"string\"\n",
    "                },\n",
    "                \"office\": {\n",
    "                    \"type\": \"string\"\n",
    "                }\n",
    "            },\n",
    "\n",
    "        },\n",
    "\n",
    "    },\n",
    "}"
   ]
  },
  {
   "cell_type": "code",
   "execution_count": 4,
   "metadata": {},
   "outputs": [],
   "source": [
    "post_data = {\n",
    "    \"name\": \"Ankur Gupta\",\n",
    "    \"age\": 36,\n",
    "    \"gender\": \"Male\",\n",
    "    \"dues\": 29.83,\n",
    "    \"address\": \"Home sweet Home\",\n",
    "    \"phones\": {\n",
    "        \"home\": \"9099999999\",\n",
    "        \"office\": \"3838383838\"\n",
    "    }\n",
    "}\n",
    "validate(post_data, schema)"
   ]
  }
 ],
 "metadata": {
  "kernelspec": {
   "display_name": "Python 3",
   "language": "python",
   "name": "python3"
  },
  "language_info": {
   "codemirror_mode": {
    "name": "ipython",
    "version": 3
   },
   "file_extension": ".py",
   "mimetype": "text/x-python",
   "name": "python",
   "nbconvert_exporter": "python",
   "pygments_lexer": "ipython3",
   "version": "3.6.3"
  }
 },
 "nbformat": 4,
 "nbformat_minor": 2
}
