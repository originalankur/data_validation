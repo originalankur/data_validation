{
 "cells": [
  {
   "cell_type": "code",
   "execution_count": 36,
   "metadata": {},
   "outputs": [],
   "source": [
    "# https: //json-schema.org/understanding-json-schema/index.html\n",
    "# https: //python-jsonschema.readthedocs.io/en/stable/\n",
    "from jsonschema import validate"
   ]
  },
  {
   "cell_type": "code",
   "execution_count": 37,
   "metadata": {},
   "outputs": [],
   "source": [
    "schema = {\n",
    "    \"properties\": {\n",
    "        \"name\": {\n",
    "            \"type\": \"string\",\n",
    "            \"minLength\": 2,\n",
    "            \"maxLength\": 400\n",
    "        },\n",
    "        \"gender\": {\n",
    "            \"type\": \"string\",\n",
    "            \"enum\": [\n",
    "                \"Male\",\n",
    "                \"Female\",\n",
    "                \"Other\"\n",
    "            ]\n",
    "        },\n",
    "        \"age\": {\n",
    "            \"type\": \"number\",\n",
    "            \"minimum\": 18,\n",
    "            \"maximum\": 126\n",
    "        },\n",
    "        \"dues\": {\n",
    "            \"type\": \"number\"\n",
    "        },\n",
    "        \"address\": {\n",
    "            \"type\": \"string\",\n",
    "            \"minLength\": 0,\n",
    "            \"maxLength\": 1000\n",
    "        },\n",
    "        \"phones\": {\n",
    "            \"properties\": {\n",
    "                \"home\": {\n",
    "                    \"type\": \"string\"\n",
    "                },\n",
    "                \"office\": {\n",
    "                    \"type\": \"string\"\n",
    "                }\n",
    "            },\n",
    "\n",
    "        },\n",
    "\n",
    "    },\n",
    "}"
   ]
  },
  {
   "cell_type": "code",
   "execution_count": 40,
   "metadata": {},
   "outputs": [],
   "source": [
    "post_data = {\n",
    "    \"name\": \"Ankur Gupta\",\n",
    "    \"age\": 36,\n",
    "    \"gender\": \"Male\",\n",
    "    \"dues\": 29.83,\n",
    "    \"address\": \"Home sweet Home\",\n",
    "    \"phones\": {\n",
    "        \"home\": \"9099999999\",\n",
    "        \"office\": \"3838383838\"\n",
    "    }\n",
    "}\n",
    "validate(post_data, schema)"
   ]
  },
  {
   "cell_type": "code",
   "execution_count": 6,
   "metadata": {},
   "outputs": [],
   "source": [
    "from cerberus import Validator, schema\n",
    "# http://docs.python-cerberus.org/en/stable/index.html"
   ]
  },
  {
   "cell_type": "code",
   "execution_count": 41,
   "metadata": {},
   "outputs": [
    {
     "data": {
      "text/plain": [
       "False"
      ]
     },
     "execution_count": 41,
     "metadata": {},
     "output_type": "execute_result"
    }
   ],
   "source": [
    "# basic example\n",
    "schema = {'name': {'type': 'string'}, 'age': {'type': 'integer', 'min': 10}}\n",
    "document = {'name': 'Little Joe', 'age': 5}\n",
    "v = Validator()\n",
    "v.validate(document, schema)"
   ]
  },
  {
   "cell_type": "code",
   "execution_count": 42,
   "metadata": {},
   "outputs": [
    {
     "data": {
      "text/plain": [
       "{'age': ['min value is 10']}"
      ]
     },
     "execution_count": 42,
     "metadata": {},
     "output_type": "execute_result"
    }
   ],
   "source": [
    "v.errors"
   ]
  },
  {
   "cell_type": "code",
   "execution_count": 43,
   "metadata": {},
   "outputs": [
    {
     "data": {
      "text/plain": [
       "{'bar': 0}"
      ]
     },
     "execution_count": 43,
     "metadata": {},
     "output_type": "execute_result"
    }
   ],
   "source": [
    "# rename fields\n",
    "v = Validator({'foo': {'rename': 'bar'}})\n",
    "v.normalized({'foo': 0})"
   ]
  },
  {
   "cell_type": "code",
   "execution_count": 44,
   "metadata": {},
   "outputs": [
    {
     "data": {
      "text/plain": [
       "{'02': 'foo'}"
      ]
     },
     "execution_count": 44,
     "metadata": {},
     "output_type": "execute_result"
    }
   ],
   "source": [
    "# lamda to evaluate values\n",
    "even_digits = lambda x: '0' + x if len(x) % 2 else x\n",
    "v = Validator({}, allow_unknown={'rename_handler': [str, even_digits]})\n",
    "v.normalized({2: 'foo'})"
   ]
  },
  {
   "cell_type": "code",
   "execution_count": 45,
   "metadata": {},
   "outputs": [
    {
     "data": {
      "text/plain": [
       "{}"
      ]
     },
     "execution_count": 45,
     "metadata": {},
     "output_type": "execute_result"
    }
   ],
   "source": [
    "# Purging Unknown Fields\n",
    "v = Validator({'foo': {'type': 'string'}}, purge_unknown=True)\n",
    "v.normalized({'bar': 'foo'})"
   ]
  },
  {
   "cell_type": "code",
   "execution_count": 46,
   "metadata": {},
   "outputs": [
    {
     "data": {
      "text/plain": [
       "True"
      ]
     },
     "execution_count": 46,
     "metadata": {},
     "output_type": "execute_result"
    }
   ],
   "source": [
    "# default values\n",
    "v.schema = {'amount': {'type': 'integer'}, 'kind': {'type': 'string', 'default': 'purchase'}}\n",
    "v.normalized({'amount': 1}) == {'amount': 1, 'kind': 'purchase'}"
   ]
  },
  {
   "cell_type": "code",
   "execution_count": 35,
   "metadata": {},
   "outputs": [],
   "source": [
    "import datetime\n",
    "import json\n",
    "import typesystem\n",
    "# https://www.encode.io/typesystem/\n",
    "# https://www.encode.io/typesystem/fields/"
   ]
  },
  {
   "cell_type": "code",
   "execution_count": 47,
   "metadata": {},
   "outputs": [],
   "source": [
    "class Phone(typesystem.Schema):\n",
    "\thome = typesystem.String(max_length=100)\n",
    "\toffice = typesystem.String(max_length=100)\n",
    "\n",
    "class Person(typesystem.Schema):\n",
    "    name = typesystem.String(max_length=100)\n",
    "    gender = typesystem.Choice(choices=((\"M\", \"Male\"),(\"F\", \"Female\")))\n",
    "    age = typesystem.String(max_length=100)\n",
    "    has_dues = typesystem.Boolean(default=False)\n",
    "    address = typesystem.String(max_length=100)\n",
    "    phone_no = typesystem.Reference(Phone)\n",
    "    created_at = typesystem.Date(default=datetime.date.today)"
   ]
  },
  {
   "cell_type": "code",
   "execution_count": 48,
   "metadata": {},
   "outputs": [],
   "source": [
    "person = Person.validate({\n",
    "    \"name\": \"Ankur Gupta\",\n",
    "    \"gender\": \"M\",\n",
    "    \"age\": \"36\",\n",
    "    \"dues\": False,\n",
    "    \"address\": \"Home Sweet Home.\",\n",
    "    \"phone_no\":{\"home\": \"9020200202\", \"office\":\"39393993\"},\n",
    "})"
   ]
  },
  {
   "cell_type": "code",
   "execution_count": 49,
   "metadata": {},
   "outputs": [
    {
     "data": {
      "text/plain": [
       "Person(name='Ankur Gupta', gender='M', age='36', has_dues=False, address='Home Sweet Home.', phone_no=Phone(home='9020200202', office='39393993'), created_at=datetime.date(2019, 3, 16))"
      ]
     },
     "execution_count": 49,
     "metadata": {},
     "output_type": "execute_result"
    }
   ],
   "source": [
    "person\n"
   ]
  },
  {
   "cell_type": "code",
   "execution_count": 50,
   "metadata": {},
   "outputs": [
    {
     "data": {
      "text/plain": [
       "datetime.date(2019, 3, 16)"
      ]
     },
     "execution_count": 50,
     "metadata": {},
     "output_type": "execute_result"
    }
   ],
   "source": [
    "person.created_at"
   ]
  },
  {
   "cell_type": "code",
   "execution_count": 51,
   "metadata": {},
   "outputs": [
    {
     "name": "stdout",
     "output_type": "stream",
     "text": [
      "2019-03-16\n"
     ]
    }
   ],
   "source": [
    "print(person['created_at'])"
   ]
  },
  {
   "cell_type": "code",
   "execution_count": 52,
   "metadata": {},
   "outputs": [
    {
     "data": {
      "text/plain": [
       "{'name': 'Ankur Gupta',\n",
       " 'gender': 'M',\n",
       " 'age': '36',\n",
       " 'has_dues': False,\n",
       " 'address': 'Home Sweet Home.',\n",
       " 'phone_no': {'home': '9020200202', 'office': '39393993'},\n",
       " 'created_at': '2019-03-16'}"
      ]
     },
     "execution_count": 52,
     "metadata": {},
     "output_type": "execute_result"
    }
   ],
   "source": [
    "dict(person)"
   ]
  },
  {
   "cell_type": "code",
   "execution_count": 53,
   "metadata": {},
   "outputs": [
    {
     "data": {
      "text/plain": [
       "{'type': 'object',\n",
       " 'properties': {'name': {'type': 'string', 'minLength': 1, 'maxLength': 100},\n",
       "  'gender': {'enum': ['M', 'F']},\n",
       "  'age': {'type': 'string', 'minLength': 1, 'maxLength': 100},\n",
       "  'has_dues': {'type': 'boolean', 'default': False},\n",
       "  'address': {'type': 'string', 'minLength': 1, 'maxLength': 100},\n",
       "  'phone_no': {'$ref': '#/definitions/Phone'},\n",
       "  'created_at': {'type': 'string',\n",
       "   'default': <function date.today>,\n",
       "   'minLength': 1,\n",
       "   'format': 'date'}},\n",
       " 'required': ['name', 'gender', 'age', 'address', 'phone_no'],\n",
       " 'definitions': {'Phone': {'type': 'object',\n",
       "   'properties': {'home': {'type': 'string', 'minLength': 1, 'maxLength': 100},\n",
       "    'office': {'type': 'string', 'minLength': 1, 'maxLength': 100}},\n",
       "   'required': ['home', 'office']}}}"
      ]
     },
     "execution_count": 53,
     "metadata": {},
     "output_type": "execute_result"
    }
   ],
   "source": [
    "typesystem.to_json_schema(Person)"
   ]
  },
  {
   "cell_type": "code",
   "execution_count": null,
   "metadata": {},
   "outputs": [],
   "source": []
  }
 ],
 "metadata": {
  "kernelspec": {
   "display_name": "Python 3",
   "language": "python",
   "name": "python3"
  },
  "language_info": {
   "codemirror_mode": {
    "name": "ipython",
    "version": 3
   },
   "file_extension": ".py",
   "mimetype": "text/x-python",
   "name": "python",
   "nbconvert_exporter": "python",
   "pygments_lexer": "ipython3",
   "version": "3.6.3"
  }
 },
 "nbformat": 4,
 "nbformat_minor": 2
}
